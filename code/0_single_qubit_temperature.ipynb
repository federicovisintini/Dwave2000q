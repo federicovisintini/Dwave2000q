{
 "cells": [
  {
   "cell_type": "markdown",
   "id": "worst-watershed",
   "metadata": {},
   "source": [
    "# Device hamiltonian and parameters\n",
    "Remeber the hamiltonian of a DWave quantum anneler\n",
    "\n",
    "$$ \\mathcal{H}_{\\text{ising}} = - \\frac{A(s)}{2} \\left( \\sum_i \\hat{\\sigma}_x^{(i)} \\right) + \\frac{B(s)}{2} \\left( \\sum_i h_i \\hat{\\sigma}_z^{(i)} + \\sum_{i>j} J_{i,j} \\hat{\\sigma}_z^{(i)} \\hat{\\sigma}_z^{(j)} \\right) $$\n",
    "\n",
    "where $A(s), B(s)$ depends on the device, while $h_i, J_{i,j}$ are defined from the user."
   ]
  },
  {
   "cell_type": "code",
   "execution_count": 1,
   "id": "private-director",
   "metadata": {},
   "outputs": [],
   "source": [
    "%matplotlib inline\n",
    "\n",
    "import pandas as pd\n",
    "import numpy as np\n",
    "import random\n",
    "import pickle\n",
    "from matplotlib import pyplot as plt\n",
    "from settings import DATA_DIR, ANNEALING_SCHEDULE_XLS\n",
    "\n",
    "# loading annealing functions\n",
    "df = pd.read_excel(ANNEALING_SCHEDULE_XLS, sheet_name=1)\n",
    "nominal_temp_ghz = 13.5 / 47.9924341590788"
   ]
  },
  {
   "cell_type": "code",
   "execution_count": 2,
   "id": "purple-hacker",
   "metadata": {},
   "outputs": [
    {
     "data": {
      "text/html": [
       "<div>\n",
       "<style scoped>\n",
       "    .dataframe tbody tr th:only-of-type {\n",
       "        vertical-align: middle;\n",
       "    }\n",
       "\n",
       "    .dataframe tbody tr th {\n",
       "        vertical-align: top;\n",
       "    }\n",
       "\n",
       "    .dataframe thead th {\n",
       "        text-align: right;\n",
       "    }\n",
       "</style>\n",
       "<table border=\"1\" class=\"dataframe\">\n",
       "  <thead>\n",
       "    <tr style=\"text-align: right;\">\n",
       "      <th></th>\n",
       "      <th>s</th>\n",
       "      <th>A(s) (GHz)</th>\n",
       "      <th>B(s) (GHz)</th>\n",
       "      <th>C (normalized)</th>\n",
       "    </tr>\n",
       "  </thead>\n",
       "  <tbody>\n",
       "    <tr>\n",
       "      <th>0</th>\n",
       "      <td>0.000000</td>\n",
       "      <td>9.965879</td>\n",
       "      <td>0.062970</td>\n",
       "      <td>0.000000</td>\n",
       "    </tr>\n",
       "    <tr>\n",
       "      <th>1</th>\n",
       "      <td>0.001001</td>\n",
       "      <td>9.909568</td>\n",
       "      <td>0.064592</td>\n",
       "      <td>0.003373</td>\n",
       "    </tr>\n",
       "    <tr>\n",
       "      <th>2</th>\n",
       "      <td>0.002002</td>\n",
       "      <td>9.854917</td>\n",
       "      <td>0.066236</td>\n",
       "      <td>0.006623</td>\n",
       "    </tr>\n",
       "    <tr>\n",
       "      <th>3</th>\n",
       "      <td>0.003003</td>\n",
       "      <td>9.800594</td>\n",
       "      <td>0.067900</td>\n",
       "      <td>0.009849</td>\n",
       "    </tr>\n",
       "    <tr>\n",
       "      <th>4</th>\n",
       "      <td>0.004004</td>\n",
       "      <td>9.746270</td>\n",
       "      <td>0.069585</td>\n",
       "      <td>0.013074</td>\n",
       "    </tr>\n",
       "  </tbody>\n",
       "</table>\n",
       "</div>"
      ],
      "text/plain": [
       "          s  A(s) (GHz)  B(s) (GHz)  C (normalized)\n",
       "0  0.000000    9.965879    0.062970        0.000000\n",
       "1  0.001001    9.909568    0.064592        0.003373\n",
       "2  0.002002    9.854917    0.066236        0.006623\n",
       "3  0.003003    9.800594    0.067900        0.009849\n",
       "4  0.004004    9.746270    0.069585        0.013074"
      ]
     },
     "execution_count": 2,
     "metadata": {},
     "output_type": "execute_result"
    }
   ],
   "source": [
    "df.head()"
   ]
  },
  {
   "cell_type": "code",
   "execution_count": 3,
   "id": "incoming-tiffany",
   "metadata": {
    "scrolled": false
   },
   "outputs": [
    {
     "data": {
      "image/png": "[encoded data removed]",
      "text/plain": [
       "<Figure size 576x432 with 1 Axes>"
      ]
     },
     "metadata": {
      "needs_background": "light"
     },
     "output_type": "display_data"
    }
   ],
   "source": [
    "# plot annealing functions vs annealing parameter and plotting nominal temperature for comparison\n",
    "plt.figure(figsize=(8, 6))\n",
    "plt.plot(df['s'], df['A(s) (GHz)'], label='A(s)')\n",
    "plt.plot(df['s'], df['B(s) (GHz)'], label='B(s)')\n",
    "plt.plot(np.linspace(0,1), nominal_temp_ghz * np.ones(50), linestyle='--', label='E = $k_B$T')\n",
    "\n",
    "plt.title('Annealing functions')\n",
    "plt.xlabel('s')\n",
    "plt.ylabel('Energy (GHz)')\n",
    "plt.legend()\n",
    "plt.show()"
   ]
  },
  {
   "cell_type": "markdown",
   "id": "animated-practitioner",
   "metadata": {},
   "source": [
    "# Single qubit temperature measurements\n",
    "Reducing ourselves to a single spin, we have the freedom to choose *h* and the annealing parameter *s(t)*.\n",
    "\n",
    "$$ \\quad \\forall i,j \\quad J_{i,j}=0 $$\n",
    "\n",
    "$$ \\mathcal{H}_{\\text{single qubit}} = - \\frac{A(s)}{2} \\hat{\\sigma}_x + \\frac{B(s)}{2} h \\hat{\\sigma}_z $$"
   ]
  },
  {
   "cell_type": "code",
   "execution_count": 4,
   "id": "alternate-trance",
   "metadata": {},
   "outputs": [
    {
     "name": "stdout",
     "output_type": "stream",
     "text": [
      "Minimun energy gap for h=0.5: 2.110 GHz\n",
      "Minimun energy gap for h=0.01: 0.070 GHz\n",
      "Nominal thermal energy: 0.281 GHz\n"
     ]
    },
    {
     "data": {
      "image/png": "[encoded data removed]",
      "text/plain": [
       "<Figure size 576x432 with 1 Axes>"
      ]
     },
     "metadata": {
      "needs_background": "light"
     },
     "output_type": "display_data"
    }
   ],
   "source": [
    "# plot hamiltonian istantanous eigenvalues vs annealing parameters for various h\n",
    "biases = [0.5, 0.01]\n",
    "colors = ['C0', 'C1']\n",
    "\n",
    "sigma_x = np.array([[0, 1], [1, 0]])\n",
    "sigma_z = np.diag([1, -1])\n",
    "\n",
    "plt.figure(figsize=(8, 6))\n",
    "plt.title(f'Istantaneous eigenvalues for various biases')\n",
    "\n",
    "for h, c in zip(biases, colors):\n",
    "    # H is a list of matrices, eigenvals is a list of couple of eigenvalues\n",
    "    H = [a / 2 * sigma_x + b / 2 * h * sigma_z for a, b in zip(df['A(s) (GHz)'], df['B(s) (GHz)'])]\n",
    "    eigenvals = [np.linalg.eigvalsh(hamilt) for hamilt in H]\n",
    "\n",
    "    anneal_parameter = np.linspace(0, 1, len(eigenvals))\n",
    "    negative_eigenvals, positive_eigenvals = np.array(eigenvals).T\n",
    "    print(f'Minimun energy gap for h={h}: {np.min(positive_eigenvals - negative_eigenvals):.3f} GHz')\n",
    "\n",
    "    # plot the figure\n",
    "    plt.plot(anneal_parameter, negative_eigenvals, c=c, label=f'h={h}')\n",
    "    plt.plot(anneal_parameter, positive_eigenvals, c=c)\n",
    "\n",
    "print(f'Nominal thermal energy: {nominal_temp_ghz:.3f} GHz')\n",
    "plt.plot(np.linspace(0, 1), nominal_temp_ghz * np.ones(50) / 2, c='C2', linestyle='--', label='$\\Delta E=k_B T$')\n",
    "plt.plot(np.linspace(0, 1), - nominal_temp_ghz * np.ones(50) / 2, c='C2', linestyle='--')\n",
    "\n",
    "plt.xlabel('Anneal parameter: s')\n",
    "plt.ylabel('Eigenvalues (GHz)')\n",
    "plt.legend()\n",
    "plt.show()"
   ]
  },
  {
   "cell_type": "code",
   "execution_count": 5,
   "id": "furnished-provision",
   "metadata": {},
   "outputs": [
    {
     "name": "stdout",
     "output_type": "stream",
     "text": [
      "DW_2000Q_6\n",
      "Advantage_system1.1\n",
      "hybrid_binary_quadratic_model_version2\n",
      "hybrid_discrete_quadratic_model_version1\n"
     ]
    }
   ],
   "source": [
    "# cerco quali device sono disponibili al momento\n",
    "from dwave.cloud import Client\n",
    "\n",
    "with Client.from_config() as client:\n",
    "    for solver in client.get_solvers():\n",
    "        print(solver.id)"
   ]
  },
  {
   "cell_type": "code",
   "execution_count": 6,
   "id": "false-fifteen",
   "metadata": {},
   "outputs": [
    {
     "name": "stdout",
     "output_type": "stream",
     "text": [
      "Maximum anneal-schedule points: 12\n",
      "Annealing time range: [1, 2000] μs\n",
      "Maximum slope allowed on this solver is 1.0\n"
     ]
    }
   ],
   "source": [
    "# I choose the device and make sure I can communicate with it, I print some features on the screen\n",
    "from dwave.system import DWaveSampler\n",
    "import dwave.inspector\n",
    "\n",
    "sampler = DWaveSampler(solver='DW_2000Q_6')\n",
    "\n",
    "print(f'Maximum anneal-schedule points: {sampler.properties[\"max_anneal_schedule_points\"]}')\n",
    "print(f'Annealing time range: {sampler.properties[\"annealing_time_range\"]} \\u03BCs')\n",
    "print(f'Maximum slope allowed on this solver is {1.0/sampler.properties[\"annealing_time_range\"][0]}')\n",
    "\n",
    "# sampler.parameters"
   ]
  },
  {
   "cell_type": "markdown",
   "id": "exposed-logan",
   "metadata": {},
   "source": [
    "## Classical approach: trivial reverse annealing"
   ]
  },
  {
   "cell_type": "markdown",
   "id": "residential-booth",
   "metadata": {},
   "source": [
    "First, I initialize my state directly into an eigenstate of $\\hat \\sigma_z$ using reverse annealing. I initialize the state in the first excited and do not modify the annealing parameter. I wait for the maximum time compatible with the machine and measure the long state $\\hat \\sigma_z$."
   ]
  },
  {
   "cell_type": "code",
   "execution_count": 7,
   "id": "dominican-token",
   "metadata": {},
   "outputs": [],
   "source": [
    "# parameters\n",
    "annealing_time = 2000\n",
    "h1 = 0.05\n",
    "# for h = 0.028, energy gap along z between ground and the first excited level should be equal to thermal energy\n",
    "\n",
    "trivial_reverse_schedule = [[0.0, 1.0], [annealing_time, 1.0]]\n",
    "linear_offsets = {active_node: h1 * random.choice([-1, 1]) for active_node in sampler.nodelist}\n",
    "initial_state = {active_node: np.sign(linear_offsets[active_node]) for active_node in linear_offsets}"
   ]
  },
  {
   "cell_type": "code",
   "execution_count": 8,
   "id": "distinct-hearts",
   "metadata": {},
   "outputs": [],
   "source": [
    "# RUN 'thermal' evolution of excited sigma_z eigenstate\n",
    "\n",
    "sampler.validate_anneal_schedule(trivial_reverse_schedule)\n",
    "# sampleset = sampler.sample_ising(linear_offsets, {}, num_reads=10, auto_scale=False, anneal_schedule=trivial_reverse_schedule, initial_state=initial_state, label=f'Trivial reverse annealing test h={h}')\n",
    "\n",
    "# save data to file\n",
    "# pickle.dump((linear_offsets, sampleset), open(DATA_DIR / \"trivial_reverse_annealing_h\" + str(h1) + \".pickle\", \"wb\"))"
   ]
  },
  {
   "cell_type": "code",
   "execution_count": 9,
   "id": "south-wages",
   "metadata": {},
   "outputs": [
    {
     "data": {
      "text/html": [
       "<div>\n",
       "<style scoped>\n",
       "    .dataframe tbody tr th:only-of-type {\n",
       "        vertical-align: middle;\n",
       "    }\n",
       "\n",
       "    .dataframe tbody tr th {\n",
       "        vertical-align: top;\n",
       "    }\n",
       "\n",
       "    .dataframe thead th {\n",
       "        text-align: right;\n",
       "    }\n",
       "</style>\n",
       "<table border=\"1\" class=\"dataframe\">\n",
       "  <thead>\n",
       "    <tr style=\"text-align: right;\">\n",
       "      <th></th>\n",
       "      <th>0</th>\n",
       "      <th>1</th>\n",
       "      <th>2</th>\n",
       "      <th>3</th>\n",
       "      <th>4</th>\n",
       "      <th>5</th>\n",
       "      <th>6</th>\n",
       "      <th>7</th>\n",
       "      <th>8</th>\n",
       "      <th>9</th>\n",
       "      <th>...</th>\n",
       "      <th>2040</th>\n",
       "      <th>2041</th>\n",
       "      <th>2042</th>\n",
       "      <th>2043</th>\n",
       "      <th>2044</th>\n",
       "      <th>2045</th>\n",
       "      <th>2046</th>\n",
       "      <th>2047</th>\n",
       "      <th>energy</th>\n",
       "      <th>num_occurrences</th>\n",
       "    </tr>\n",
       "  </thead>\n",
       "  <tbody>\n",
       "    <tr>\n",
       "      <th>0</th>\n",
       "      <td>1</td>\n",
       "      <td>-1</td>\n",
       "      <td>1</td>\n",
       "      <td>1</td>\n",
       "      <td>-1</td>\n",
       "      <td>1</td>\n",
       "      <td>1</td>\n",
       "      <td>-1</td>\n",
       "      <td>1</td>\n",
       "      <td>-1</td>\n",
       "      <td>...</td>\n",
       "      <td>1</td>\n",
       "      <td>-1</td>\n",
       "      <td>1</td>\n",
       "      <td>-1</td>\n",
       "      <td>1</td>\n",
       "      <td>-1</td>\n",
       "      <td>1</td>\n",
       "      <td>-1</td>\n",
       "      <td>102.05</td>\n",
       "      <td>10</td>\n",
       "    </tr>\n",
       "  </tbody>\n",
       "</table>\n",
       "<p>1 rows × 2043 columns</p>\n",
       "</div>"
      ],
      "text/plain": [
       "   0  1  2  3  4  5  6  7  8  9  ...  2040  2041  2042  2043  2044  2045  \\\n",
       "0  1 -1  1  1 -1  1  1 -1  1 -1  ...     1    -1     1    -1     1    -1   \n",
       "\n",
       "   2046  2047  energy  num_occurrences  \n",
       "0     1    -1  102.05               10  \n",
       "\n",
       "[1 rows x 2043 columns]"
      ]
     },
     "execution_count": 9,
     "metadata": {},
     "output_type": "execute_result"
    }
   ],
   "source": [
    "linear_offsets, sampleset = pickle.load(open(DATA_DIR / f\"trivial_reverse_annealing_h{h1}.pickle\", \"rb\"))\n",
    "sampleset.aggregate().to_pandas_dataframe()"
   ]
  },
  {
   "cell_type": "code",
   "execution_count": 10,
   "id": "vanilla-story",
   "metadata": {},
   "outputs": [
    {
     "name": "stdout",
     "output_type": "stream",
     "text": [
      "Initial state energy for 2041 qubits: 102.05\n"
     ]
    }
   ],
   "source": [
    "# recall some parameters of the simulation\n",
    "num_qubits_per_run = len(sampleset.record[\"sample\"][0])\n",
    "final_B = df['B(s) (GHz)'].to_numpy()[-1]\n",
    "anneling_times = np.array(trivial_reverse_schedule).T[0]\n",
    "\n",
    "# I define the initial energy to which I initialized the state and the final energy after the temporal evolution (GHz)\n",
    "initial_energy = final_B * h1\n",
    "final_energy = final_B * np.sum(sampleset.record['energy'] * sampleset.record['num_occurrences']) / np.sum(sampleset.record['num_occurrences']) / num_qubits_per_run\n",
    "\n",
    "print(f'Initial state energy for {num_qubits_per_run} qubits: {h1 * num_qubits_per_run:.2f}')"
   ]
  },
  {
   "cell_type": "code",
   "execution_count": 11,
   "id": "persistent-reason",
   "metadata": {},
   "outputs": [
    {
     "data": {
      "image/png": "[encoded data removed]",
      "text/plain": [
       "<Figure size 576x432 with 1 Axes>"
      ]
     },
     "metadata": {
      "needs_background": "light"
     },
     "output_type": "display_data"
    }
   ],
   "source": [
    "# plot the state evolution\n",
    "plt.figure(figsize=(8, 6))\n",
    "plt.scatter(anneling_times, np.array([initial_energy, final_energy]), label='My state')\n",
    "plt.plot(anneling_times, np.array([-initial_energy, -initial_energy]), linestyle='--', color='C1', label='Ground State')\n",
    "plt.plot(anneling_times, np.array([-initial_energy + nominal_temp_ghz, -initial_energy + nominal_temp_ghz]), linestyle='--', color='C2', label='Expected asintotic state with nominal termal fluctuations')\n",
    "\n",
    "plt.title('Trivial reverse annealing')\n",
    "plt.xlabel('time ($\\mu s$)')\n",
    "plt.ylabel(f'Energy of 1 qubit (GHz)')\n",
    "plt.legend()\n",
    "plt.show()"
   ]
  },
  {
   "cell_type": "markdown",
   "id": "lesbian-religious",
   "metadata": {},
   "source": [
    "The (classical) dynamics of evolution is too slow with respect to $t_f$, therefore we cannot see the termalization."
   ]
  },
  {
   "cell_type": "markdown",
   "id": "premium-letters",
   "metadata": {},
   "source": [
    "## Boltzmann distribution"
   ]
  },
  {
   "cell_type": "markdown",
   "id": "interior-electron",
   "metadata": {},
   "source": [
    "Naively, one might expect the final distribution at the end of the anneal to be a classical Boltzmann distribution\n",
    "for the problem Hamiltonian H at the operating temperature of the device, specifically,\n",
    "\n",
    "$$\\rho \\sim \\exp (- \\beta B(1) h \\hat{\\sigma}_z / 2), \\qquad \\text{where} \\quad \\beta = 1/k_B T,$$\n",
    "\n",
    "with T the operating temperature of the annealer (on the order of $10-20mK$). But it has long been known that is not the case.\n",
    "\n",
    "Reference: *Power of Pausing, Venturelli*  [arXiv:1810.05881](https://arxiv.org/abs/1810.05881)"
   ]
  },
  {
   "cell_type": "markdown",
   "id": "healthy-vietnamese",
   "metadata": {},
   "source": [
    "The freezout hypothesis suggests that state dynamics stops when the time scale of evolution, governed by A(s) becomes greater than $t_f$. The equality of times is called ** freezout point **.\n",
    "\n",
    "The final distribution of states will be similar to $$\\rho \\sim \\exp (- \\beta B(s^*) h \\hat{\\sigma}_z / 2), $$ where $s^*$ is the freezout point of the system."
   ]
  },
  {
   "cell_type": "markdown",
   "id": "coastal-headset",
   "metadata": {},
   "source": [
    "The expected distribution of spin up population is\n",
    "\n",
    "$$P_↑/(1-P_↑)=\\exp(-\\delta E / k_B T) \\qquad \\text{con} \\quad \\delta E = h \\times B(s^*) $$"
   ]
  },
  {
   "cell_type": "markdown",
   "id": "sharing-saskatchewan",
   "metadata": {},
   "source": [
    "### Find T assuming s*= 0.719"
   ]
  },
  {
   "cell_type": "markdown",
   "id": "backed-keeping",
   "metadata": {},
   "source": [
    "###### Using just a single spin"
   ]
  },
  {
   "cell_type": "code",
   "execution_count": 12,
   "id": "amateur-midnight",
   "metadata": {},
   "outputs": [],
   "source": [
    "# single spin example\n",
    "h = {4: 0.01}\n",
    "J = {}\n",
    "\n",
    "# RUN samples\n",
    "# sampleset = sampler.sample_ising(h, J, num_reads=20, auto_scale=False, label='Autoscale False')\n",
    "\n",
    "# save data to file\n",
    "# pickle.dump(sampleset, open(DATA_DIR / \"boltz_single_spin.pickle\", \"wb\"))"
   ]
  },
  {
   "cell_type": "code",
   "execution_count": 13,
   "id": "european-brief",
   "metadata": {},
   "outputs": [],
   "source": [
    "# print and view results\n",
    "# print(sampleset)\n",
    "# dwave.inspector.show(sampleset)"
   ]
  },
  {
   "cell_type": "code",
   "execution_count": 14,
   "id": "periodic-circuit",
   "metadata": {},
   "outputs": [
    {
     "name": "stdout",
     "output_type": "stream",
     "text": [
      "   0 energy num_oc.\n",
      "0 -1  -0.01       9\n",
      "1 +1   0.01      11\n",
      "['SPIN', 2 rows, 20 samples, 1 variables]\n"
     ]
    }
   ],
   "source": [
    "# load data from pickle example\n",
    "loaded_data = pickle.load(open(DATA_DIR / \"boltz_single_spin.pickle\", \"rb\"))\n",
    "print(loaded_data)"
   ]
  },
  {
   "cell_type": "markdown",
   "id": "southern-bidding",
   "metadata": {},
   "source": [
    "###### Using all spins indipendently"
   ]
  },
  {
   "cell_type": "code",
   "execution_count": 15,
   "id": "wired-michael",
   "metadata": {},
   "outputs": [],
   "source": [
    "# setting run parameters\n",
    "N = 20\n",
    "biases = np.linspace(-0.3, 0.3, N)"
   ]
  },
  {
   "cell_type": "code",
   "execution_count": 16,
   "id": "ethical-accounting",
   "metadata": {},
   "outputs": [],
   "source": [
    "# RUN different energy gap samples for all active spins in machine\n",
    "for i, h in enumerate(biases):\n",
    "    linear_offsets = {active_node: h * random.choice([-1, 1]) for active_node in sampler.nodelist}\n",
    "    # sampleset = sampler.sample_ising(linear_offsets, {}, num_reads = 10, auto_scale=False, label=f'Boltzmann h={h}')\n",
    "    \n",
    "    # save data to file\n",
    "    # pickle.dump((h, sampleset), open(DATA_DIR / f\"boltzmann{i}.pickle\", \"wb\"))"
   ]
  },
  {
   "cell_type": "code",
   "execution_count": 17,
   "id": "varying-hampton",
   "metadata": {},
   "outputs": [],
   "source": [
    "def spin_up_pop(record, h):\n",
    "    # calcoliamo la percentuale di popolamento dello stato con spin positivo lungo z\n",
    "    if h == 0:\n",
    "        return 0.5\n",
    "    num_spins = len(record['sample'][0])\n",
    "    all_spin_up_energy = - h * num_spins\n",
    "    ensamble_energy = np.sum(record.num_occurrences * (record.energy - all_spin_up_energy) / record.num_occurrences.sum())\n",
    "    \n",
    "    n_spin_down = ensamble_energy / 2 / h / num_spins\n",
    "    n_std = 1 / np.sqrt(4 * num_spins * record.num_occurrences.sum())\n",
    "    \n",
    "    return 1 - n_spin_down, n_std"
   ]
  },
  {
   "cell_type": "code",
   "execution_count": 18,
   "id": "international-daughter",
   "metadata": {},
   "outputs": [],
   "source": [
    "# load data from file\n",
    "n_spin_up = []\n",
    "dn_spin_up = []\n",
    "biases = []\n",
    "\n",
    "for i in range(N):\n",
    "    h, loaded_sampleset = pickle.load(open(DATA_DIR / f\"boltzmann{i}.pickle\", \"rb\"))\n",
    "    spin_up, dspin_up = spin_up_pop(loaded_sampleset.record, h)\n",
    "    \n",
    "    biases.append(h)\n",
    "    n_spin_up.append(spin_up)\n",
    "    dn_spin_up.append(dspin_up)\n",
    "    \n",
    "biases = np.array(biases)\n",
    "n_spin_up = np.array(n_spin_up)\n",
    "dn_spin_up = np.array(dn_spin_up)"
   ]
  },
  {
   "cell_type": "code",
   "execution_count": 19,
   "id": "wrapped-works",
   "metadata": {},
   "outputs": [
    {
     "data": {
      "image/png": "[encoded data removed]",
      "text/plain": [
       "<Figure size 576x432 with 1 Axes>"
      ]
     },
     "metadata": {
      "needs_background": "light"
     },
     "output_type": "display_data"
    }
   ],
   "source": [
    "# ground state population vs h graph\n",
    "plt.figure(figsize=(8,6))\n",
    "plt.errorbar(biases, n_spin_up, dn_spin_up, marker='.', linestyle='')\n",
    "plt.title('Probability of qubit being spin up')\n",
    "plt.xlabel('h')\n",
    "plt.ylabel(r'$P_\\uparrow$')\n",
    "plt.show()"
   ]
  },
  {
   "cell_type": "code",
   "execution_count": 20,
   "id": "blocked-divorce",
   "metadata": {},
   "outputs": [],
   "source": [
    "from scipy.optimize import curve_fit\n",
    "\n",
    "def temperature_fit_function(x, T):\n",
    "    return 1 / (1 + np.exp(- x / T))"
   ]
  },
  {
   "cell_type": "code",
   "execution_count": 21,
   "id": "constant-generation",
   "metadata": {},
   "outputs": [],
   "source": [
    "# defining s star and finding the corresponding value for B\n",
    "s_star = 0.719\n",
    "closest_s = df.iloc[(df['s'] - s_star).abs().argsort()[0]]"
   ]
  },
  {
   "cell_type": "markdown",
   "id": "accessory-mailing",
   "metadata": {},
   "source": [
    "$$ \\frac{P_\\uparrow}{1-P_\\uparrow}=\\exp \\left( \\frac{-B(s^*)h}{2 k_B T} \\right) $$\n",
    "\n",
    "<!-- $$ P_\\uparrow = \\frac{\\exp \\left( \\frac{-B(s^*)h}{2 k_B T} \\right)}{1 + \\exp \\left( \\frac{-B(s^*)h}{2 k_B T} \\right)} $$ -->\n",
    "\n",
    "$$ P_\\uparrow = \\left[ 1 + \\exp \\left( \\frac{B(s^*)h}{2 k_B T} \\right) \\right] ^{-1} $$"
   ]
  },
  {
   "cell_type": "code",
   "execution_count": 22,
   "id": "stainless-company",
   "metadata": {},
   "outputs": [
    {
     "name": "stdout",
     "output_type": "stream",
     "text": [
      "The single qubit temperature results equal to 0.2968 +/- 0.0013 GHz\n",
      "Equivalently 14.24 +/- 0.06 mK\n"
     ]
    },
    {
     "data": {
      "text/plain": [
       "4.898428529297493"
      ]
     },
     "execution_count": 22,
     "metadata": {},
     "output_type": "execute_result"
    }
   ],
   "source": [
    "# fit the curve to find the temperature\n",
    "popt, pcov = curve_fit(temperature_fit_function, closest_s['B(s) (GHz)'] * biases, n_spin_up, sigma = dn_spin_up, absolute_sigma=True)\n",
    "\n",
    "# compute the mean and the chi^2/dof\n",
    "z = (n_spin_up - temperature_fit_function(closest_s['B(s) (GHz)'] * biases, popt[0])) / dn_spin_up\n",
    "chi2 = np.sum(z ** 2)\n",
    "chi2dof = chi2 / (N - 1)\n",
    "sigma = np.sqrt(2. / (N - 1))\n",
    "nsig = (chi2dof - 1) / sigma\n",
    "    \n",
    "ghz_to_mk = 0.0479924341590788 * 1000\n",
    "\n",
    "print('The single qubit temperature results equal to {0:.4f} +/- {1:.4f} GHz'.format( popt[0], np.sqrt(pcov[0][0]) ))\n",
    "print('Equivalently {0:.2f} +/- {1:.2f} mK'.format( popt[0] * ghz_to_mk, np.sqrt(pcov[0][0]) * ghz_to_mk))\n",
    "\n",
    "chi2dof"
   ]
  },
  {
   "cell_type": "code",
   "execution_count": 23,
   "id": "vulnerable-consent",
   "metadata": {},
   "outputs": [
    {
     "data": {
      "image/png": "[encoded data removed]",
      "text/plain": [
       "<Figure size 576x432 with 1 Axes>"
      ]
     },
     "metadata": {
      "needs_background": "light"
     },
     "output_type": "display_data"
    }
   ],
   "source": [
    "# replot, with B on the x-axis\n",
    "xx = np.linspace(min(closest_s['B(s) (GHz)'] * biases), max(closest_s['B(s) (GHz)'] * biases), 100)\n",
    "\n",
    "plt.figure(figsize=(8,6))\n",
    "plt.errorbar(closest_s['B(s) (GHz)'] * biases, n_spin_up, dn_spin_up, marker='.', linestyle='')\n",
    "plt.plot(xx, temperature_fit_function(xx, popt))\n",
    "plt.title('Probability of qubit being spin up')\n",
    "plt.xlabel(r'B(s*) $\\times$ h (GHz), $\\quad$ s*=' + str(s_star))\n",
    "plt.ylabel(r'$P_\\uparrow$')\n",
    "plt.show()"
   ]
  },
  {
   "cell_type": "markdown",
   "id": "realistic-republican",
   "metadata": {},
   "source": [
    "### Find s*"
   ]
  },
  {
   "cell_type": "markdown",
   "id": "continental-dance",
   "metadata": {},
   "source": [
    "If interested in following this path, we can experimentally determine s*, without taking it from the official docs."
   ]
  },
  {
   "cell_type": "markdown",
   "id": "streaming-meditation",
   "metadata": {},
   "source": [
    "## Initial quench and pause"
   ]
  },
  {
   "cell_type": "markdown",
   "id": "comic-absorption",
   "metadata": {},
   "source": [
    "The idea is that by doing a fast qubit qubit, it goes into the high energy state more often because it is driven by the *kinetic energy* of the annealing, compared to the distribution I would have going slowly (influenced only by the thermal bath).\n",
    "\n",
    "Waiting enough time, the state evolves towards a situation of equilibrium and by sampling this evolution I can describe the thermalization process."
   ]
  },
  {
   "cell_type": "markdown",
   "id": "geographic-question",
   "metadata": {},
   "source": [
    "I did not complete this part of the simulation, given the results of **trivial reverse annealing**.\n",
    "\n",
    "I left the code for *future reference* for experiments with *quench schedule*"
   ]
  },
  {
   "cell_type": "code",
   "execution_count": 24,
   "id": "graphic-doctrine",
   "metadata": {},
   "outputs": [],
   "source": [
    "# parameters\n",
    "t_quench = 2.0\n",
    "t_f = 20.0\n",
    "h0 = 0.0001\n",
    "# for h = 0.025, the energy along z should be equal to the thermal energy\n",
    "\n",
    "quench_schedule = [[0.0, 0.0], [t_quench, 1.0], [t_f, 1.0]]\n",
    "linear_offsets = {active_node: h0 if active_node % 2 == 0 else -h0 for active_node in sampler.nodelist}"
   ]
  },
  {
   "cell_type": "code",
   "execution_count": 25,
   "id": "green-search",
   "metadata": {},
   "outputs": [
    {
     "data": {
      "image/png": "[encoded data removed]",
      "text/plain": [
       "<Figure size 576x432 with 1 Axes>"
      ]
     },
     "metadata": {
      "needs_background": "light"
     },
     "output_type": "display_data"
    }
   ],
   "source": [
    "# show anneal schedule\n",
    "plt.figure(figsize=(8, 6))\n",
    "plt.plot(*np.array(quench_schedule).T)\n",
    "\n",
    "plt.title('Annealing schedule for quench')\n",
    "plt.xlabel('t ($\\mu s$)')\n",
    "plt.ylabel('annealing parameter (s)')\n",
    "plt.show()"
   ]
  },
  {
   "cell_type": "markdown",
   "id": "upper-shore",
   "metadata": {},
   "source": [
    "Tuttavia dopo il quench, la dinamica del qubit, governata da $A(s)$, evolve con tempi scala $t>>t_f=200\\mu s$\n",
    "\n",
    "Di conseguenza mi aspetto di non riuscire a vedere la termalizzazione"
   ]
  },
  {
   "cell_type": "code",
   "execution_count": 26,
   "id": "unexpected-train",
   "metadata": {},
   "outputs": [],
   "source": [
    "# sampling the system after quench\n",
    "sampler.validate_anneal_schedule(quench_schedule)\n",
    "# sampleset0 = sampler.sample_ising(linear_offsets, {}, num_reads=10, anneal_schedule=quench_schedule, label=f'Quench test h={h}')\n",
    "# print(sampleset0)"
   ]
  },
  {
   "cell_type": "code",
   "execution_count": 27,
   "id": "orange-vertex",
   "metadata": {},
   "outputs": [],
   "source": [
    "def print_risultati(sampleset, linear_offsets, h):\n",
    "    # how many different results we found\n",
    "    print(f'Ho ottenuto {len(sampleset.record)} risultato(i) diverso(i).')\n",
    "    \n",
    "    # for each result we print if it is the global minimum or not\n",
    "    for ii in range(len(sampleset.record)):\n",
    "        results = sampleset.record[ii].sample\n",
    "        biases = np.array(list(linear_offsets.values()))\n",
    "        if np.all(np.sign(results) != np.sign(biases)):\n",
    "            print(f\"Tutti gli spin sono nel minimo dell'energia, per h={h}.\")\n",
    "        elif np.all(np.sign(results) == np.sign(biases)):\n",
    "            print(f\"Tutti gli spin sono nel massimo dell'energia, per h={h}.\")\n",
    "        else:\n",
    "            print(\"Ho almeno uno spin NON nel minimo/massimo.\")"
   ]
  },
  {
   "cell_type": "code",
   "execution_count": 28,
   "id": "contemporary-consistency",
   "metadata": {},
   "outputs": [],
   "source": [
    "# print_risultati(sampleset0, linear_offsets, h0)"
   ]
  },
  {
   "cell_type": "markdown",
   "id": "expired-strike",
   "metadata": {},
   "source": [
    "# Entanglement creation"
   ]
  },
  {
   "cell_type": "markdown",
   "id": "closing-terrace",
   "metadata": {},
   "source": [
    "Cerchiamo un modo per creare un Bell state nel nostro sistema\n",
    "$$\\newcommand{\\ket}[1]{|#1\\rangle}$$\n",
    "$$ \\ket{\\Phi^+} = \\frac{\\ket{00}_A + \\ket{11}_B}{\\sqrt{2}} $$"
   ]
  },
  {
   "cell_type": "markdown",
   "id": "burning-solid",
   "metadata": {},
   "source": [
    "Consideriamo l'hamiltoniana (di 2 qubits) con $h_i = 0$:\n",
    "\n",
    "$$ \\mathcal{H}_2 = - \\frac{A(s)}{2} \\left( \\hat{\\sigma}^x_A + \\hat{\\sigma}^x_B \\right) + \\frac{B(s)}{2} J \\hat{\\sigma}^z_A\\hat{\\sigma}^z_B $$"
   ]
  },
  {
   "cell_type": "code",
   "execution_count": 29,
   "id": "valid-treatment",
   "metadata": {},
   "outputs": [],
   "source": [
    "# Fix the parameters\n",
    "J = - 1\n",
    "s = [0, 0.5, 1]"
   ]
  },
  {
   "cell_type": "code",
   "execution_count": 30,
   "id": "advised-elevation",
   "metadata": {},
   "outputs": [
    {
     "name": "stdout",
     "output_type": "stream",
     "text": [
      "Hamiltonian for s=1:\n",
      " [[-5.988590e+00 -9.519025e-08 -9.519025e-08 -0.000000e+00]\n",
      " [-9.519025e-08  5.988590e+00 -0.000000e+00 -9.519025e-08]\n",
      " [-9.519025e-08 -0.000000e+00  5.988590e+00 -9.519025e-08]\n",
      " [-0.000000e+00 -9.519025e-08 -9.519025e-08 -5.988590e+00]]\n"
     ]
    }
   ],
   "source": [
    "# compute the hamiltonians for various s\n",
    "hamiltonians = []\n",
    "\n",
    "for s_star in s:\n",
    "    closest_s = df.iloc[(df['s'] - s_star).abs().argsort()[0]]\n",
    "    A = closest_s['A(s) (GHz)']\n",
    "    B = closest_s['B(s) (GHz)']\n",
    "\n",
    "    identity = np.diag([1, 1])\n",
    "    sigma_x = np.array([[0, 1], [1, 0]])\n",
    "    sigma_z = np.diag([1, -1])\n",
    "\n",
    "    hamilt = - A / 2 * (np.tensordot(sigma_x, identity, axes=0) + np.tensordot(identity, sigma_x, axes=0)) + B / 2 * J * np.tensordot(sigma_z, sigma_z, axes=0)\n",
    "\n",
    "    # reshape hamit in 2D\n",
    "    row0 = np.concatenate((hamilt[0,0,0], hamilt[0,1,0]))\n",
    "    row1 = np.concatenate((hamilt[0,0,1], hamilt[0,1,1]))\n",
    "    row2 = np.concatenate((hamilt[1,0,0], hamilt[1,1,0]))\n",
    "    row3 = np.concatenate((hamilt[1,0,1], hamilt[1,1,1]))\n",
    "\n",
    "    reshaped_hamilt = np.concatenate((row0, row1, row2, row3)).reshape(4, 4)\n",
    "    hamiltonians.append(reshaped_hamilt)\n",
    "    \n",
    "print(f'Hamiltonian for s={s_star}:\\n', reshaped_hamilt)"
   ]
  },
  {
   "cell_type": "code",
   "execution_count": 31,
   "id": "secondary-ordering",
   "metadata": {},
   "outputs": [
    {
     "name": "stdout",
     "output_type": "stream",
     "text": [
      "Some results for s=1\n",
      "Energy gap: 0.000 GHz\n",
      "Termal energy: 0.281 GHz\n",
      "Ground state vector: [8.76807158e-01 1.07901009e-08 1.07901009e-08 4.80842187e-01]\n"
     ]
    },
    {
     "data": {
      "text/plain": [
       "array([ 4.80842187e-01, -3.14698490e-09, -3.14698490e-09, -8.76807158e-01])"
      ]
     },
     "execution_count": 31,
     "metadata": {},
     "output_type": "execute_result"
    }
   ],
   "source": [
    "# calcolo ground, primo eccitato e gap energetico per le varie s\n",
    "energy_gaps = []\n",
    "ground_states = []\n",
    "first_excited_states = []\n",
    "\n",
    "for hamilt in hamiltonians:\n",
    "    v, w = np.linalg.eigh(hamilt)\n",
    "    energy_gaps.append(v[1] - v[0])\n",
    "    ground_states.append(w[:,0])\n",
    "    first_excited_states.append(w[:,1])\n",
    "\n",
    "print(f'Some results for s={s_star}')\n",
    "print(f'Energy gap: {energy_gaps[-1]:.3f} GHz')\n",
    "print(f'Termal energy: {nominal_temp_ghz:.3f} GHz')\n",
    "print('Ground state vector:', ground_states[-1])\n",
    "first_excited_states[-1]"
   ]
  },
  {
   "cell_type": "markdown",
   "id": "molecular-horizontal",
   "metadata": {},
   "source": [
    "Il ground state per $A=B|J|$ risulta essere\n",
    "$$\\newcommand{\\ket}[1]{|#1\\rangle}$$\n",
    "$$ \\ket{ground} = 0.60 \\times \\ket{\\Phi^+} + 0.37 \\times \\ket{\\Psi^+} $$"
   ]
  },
  {
   "cell_type": "code",
   "execution_count": 32,
   "id": "blank-costs",
   "metadata": {},
   "outputs": [],
   "source": [
    "def create_composite_state(i, j):\n",
    "    # returns a vector of the form (1-i, i, 1-j, j) correctly normalised\n",
    "    def create_single_normalised_array(k):\n",
    "        return np.array([1-k, k]) / np.sqrt((1-k)**2 + k**2)\n",
    "    \n",
    "    psi_A = create_single_normalised_array(i)\n",
    "    psi_B = create_single_normalised_array(j)\n",
    "\n",
    "    psi = np.empty(4)\n",
    "    psi[0] = psi_A[0] * psi_B[0]\n",
    "    psi[1] = psi_A[1] * psi_B[0]\n",
    "    psi[2] = psi_A[0] * psi_B[1]\n",
    "    psi[3] = psi_A[1] * psi_B[1]\n",
    "    \n",
    "    return psi"
   ]
  },
  {
   "cell_type": "code",
   "execution_count": 33,
   "id": "oriental-american",
   "metadata": {},
   "outputs": [
    {
     "name": "stdout",
     "output_type": "stream",
     "text": [
      "Ground state probability 1.000\n",
      "Ground state probability 0.810\n",
      "Ground state probability 0.500\n"
     ]
    },
    {
     "data": {
      "image/png": "[encoded data removed]",
      "text/plain": [
       "<Figure size 1296x360 with 6 Axes>"
      ]
     },
     "metadata": {
      "needs_background": "light"
     },
     "output_type": "display_data"
    }
   ],
   "source": [
    "from matplotlib.colors import BoundaryNorm, LogNorm\n",
    "from matplotlib.ticker import MaxNLocator\n",
    "\n",
    "N = 100\n",
    "fig, axs = plt.subplots(1, len(s), figsize=(18, 5))\n",
    "\n",
    "x = np.linspace(0, 1, N)\n",
    "y = np.linspace(0, 1, N)\n",
    "z = np.empty((N, N))\n",
    "\n",
    "for k in range(len(s)):\n",
    "    p_ground = 1 / (1 + np.exp(- energy_gaps[k] / nominal_temp_ghz))\n",
    "    print(f'Ground state probability {p_ground:.3f}')\n",
    "    for ii in range(N):\n",
    "        for jj in range(N):\n",
    "            ground_mod2 = np.dot(create_composite_state(x[ii], y[jj]), ground_states[k]) ** 2\n",
    "            first_excit_mod2 = np.dot(create_composite_state(x[ii], y[jj]), first_excited_states[k]) ** 2\n",
    "            \n",
    "            z[ii,jj] = ground_mod2 * p_ground + first_excit_mod2 * (1-p_ground)\n",
    "\n",
    "    levels = MaxNLocator(nbins=15).tick_values(z.min(), z.max())\n",
    "    color = axs[k].contourf(x, y, z, levels=levels)\n",
    "    plt.colorbar(color, ax=axs[k])\n",
    "    axs[k].set_xlabel(r'$\\alpha: \\alpha |0\\rangle_A + (1-\\alpha) |1\\rangle_A$')\n",
    "    axs[k].set_ylabel(r'$\\beta: \\beta |0\\rangle_B + (1-\\beta) |1\\rangle_B$')\n",
    "    axs[k].set_title(f's={s[k]}')"
   ]
  }
 ],
 "metadata": {
  "kernelspec": {
   "display_name": "Python 3",
   "language": "python",
   "name": "python3"
  },
  "language_info": {
   "codemirror_mode": {
    "name": "ipython",
    "version": 3
   },
   "file_extension": ".py",
   "mimetype": "text/x-python",
   "name": "python",
   "nbconvert_exporter": "python",
   "pygments_lexer": "ipython3",
   "version": "3.8.8"
  }
 },
 "nbformat": 4,
 "nbformat_minor": 5
}
